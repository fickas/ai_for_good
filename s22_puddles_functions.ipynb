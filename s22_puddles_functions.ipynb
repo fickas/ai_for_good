{
  "nbformat": 4,
  "nbformat_minor": 0,
  "metadata": {
    "colab": {
      "name": "s22_puddles_functions.ipynb",
      "provenance": [],
      "collapsed_sections": [],
      "authorship_tag": "ABX9TyPGuDm2/EaWZdfvkDfbTOum",
      "include_colab_link": true
    },
    "kernelspec": {
      "name": "python3",
      "display_name": "Python 3"
    },
    "language_info": {
      "name": "python"
    }
  },
  "cells": [
    {
      "cell_type": "markdown",
      "metadata": {
        "id": "view-in-github",
        "colab_type": "text"
      },
      "source": [
        "<a href=\"https://colab.research.google.com/github/fickas/ai_for_good/blob/master/s22_puddles_functions.ipynb\" target=\"_parent\"><img src=\"https://colab.research.google.com/assets/colab-badge.svg\" alt=\"Open In Colab\"/></a>"
      ]
    },
    {
      "cell_type": "markdown",
      "source": [
        "# `up_get_table`: loads a table from the web into Python\n",
        "\n",
        "##Syntax\n",
        "\n",
        "<pre>\n",
        "up_get_table(url)\n",
        "</pre>\n",
        "\n",
        "##Parameters\n",
        "\n",
        "<table>\n",
        "  <thead>\n",
        "    <tr>\n",
        "      <th>Parameter</th>\n",
        "      <th>Description</th>\n",
        "    </tr>\n",
        "  </thead>\n",
        "  <tbody>\n",
        "    <tr>\n",
        "      <td><code><b>url</b></code></td>\n",
        "      <td>A string representing a url associated with a table. Typically the table is in comma-separated value (csv) form.</td>\n",
        "    </tr>\n",
        "  </tbody>\n",
        "</table>\n",
        "\n",
        "##Example\n",
        "\n",
        "<pre>\n",
        "url = 'https://raw.githubusercontent.com/fickas/course_datasets/main/animals.csv'  #a table stored on github\n",
        "animal_table = up_get_table(url)\n",
        "</pre>"
      ],
      "metadata": {
        "id": "9Jt46O190Riv"
      }
    },
    {
      "cell_type": "markdown",
      "source": [
        "\n",
        "\n",
        "<center>\n",
        "<img src='https://www.dropbox.com/s/56q7d7evuerifo8/Screen%20Shot%202022-03-13%20at%201.36.43%20PM.png?raw=1' height=100 width='300'>\n",
        "</center>"
      ],
      "metadata": {
        "id": "mmpvyic_-DJP"
      }
    },
    {
      "cell_type": "markdown",
      "source": [
        "# `up_get_column`: grabs column from a table and returns as a list\n",
        "\n",
        "##Syntax\n",
        "\n",
        "<pre>\n",
        "up_get_column(table, column_name)\n",
        "</pre>\n",
        "\n",
        "##Parameters\n",
        "\n",
        "<table>\n",
        "  <thead>\n",
        "    <tr>\n",
        "      <th>Parameter</th>\n",
        "      <th>Description</th>\n",
        "    </tr>\n",
        "  </thead>\n",
        "  <tbody>\n",
        "    <tr>\n",
        "      <td><code><b>table</b></code></td>\n",
        "      <td>A puddles table. Can use <code><b>type</b></code> function to verify.</td>\n",
        "    </tr>\n",
        "    <tr>\n",
        "      <td><code><b>column_name</b></code></td>\n",
        "      <td>A string that names a legal column in <code><b>table</b></code>.</td>\n",
        "    </tr>\n",
        "  </tbody>\n",
        "</table>\n",
        "\n",
        "##Example\n",
        "\n",
        "<pre>\n",
        "cute_list = up_get_column(animal_table, 'Cuteness')\n",
        "\n",
        "print(type(animal_table))  #pandas.core.frame.DataFrame\n",
        "print(type(cute_list))  #list\n",
        "</pre>\n",
        "\n",
        "##Error examples\n",
        "\n",
        "<pre>\n",
        "cute_list = up_get_column(animal_table, Cuteness) #column_name is not a string\n",
        "</pre>\n",
        "<pre>\n",
        "cute_list = up_get_column(animal_table, 'cuteness') #column_name is wrong case\n",
        "</pre>"
      ],
      "metadata": {
        "id": "N1wm_qVJ3Ok4"
      }
    },
    {
      "cell_type": "code",
      "execution_count": null,
      "metadata": {
        "id": "7LgYXf5A0Qoq"
      },
      "outputs": [],
      "source": [
        ""
      ]
    }
  ]
}