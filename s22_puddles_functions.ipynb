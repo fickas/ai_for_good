{
  "nbformat": 4,
  "nbformat_minor": 0,
  "metadata": {
    "colab": {
      "name": "s22_puddles_functions.ipynb",
      "provenance": [],
      "include_colab_link": true
    },
    "kernelspec": {
      "name": "python3",
      "display_name": "Python 3"
    },
    "language_info": {
      "name": "python"
    }
  },
  "cells": [
    {
      "cell_type": "markdown",
      "metadata": {
        "id": "view-in-github",
        "colab_type": "text"
      },
      "source": [
        "<a href=\"https://colab.research.google.com/github/fickas/ai_for_good/blob/master/s22_puddles_functions.ipynb\" target=\"_parent\"><img src=\"https://colab.research.google.com/assets/colab-badge.svg\" alt=\"Open In Colab\"/></a>"
      ]
    },
    {
      "cell_type": "markdown",
      "source": [
        "<center><h1>Puddles functions</h1></center>\n",
        "\n",
        "They are listed in roughly order seen in class. Use the Table of Contents icon (3 horizontal bars) on top left to see a full list."
      ],
      "metadata": {
        "id": "KDEodxVDzF9Y"
      }
    },
    {
      "cell_type": "markdown",
      "source": [
        "# * `up_get_table`: loads a table from the web into Python\n",
        "\n",
        "##Syntax\n",
        "\n",
        "<pre>\n",
        "up_get_table(url)\n",
        "</pre>\n",
        "\n",
        "##Parameters\n",
        "\n",
        "<table>\n",
        "  <thead>\n",
        "    <tr>\n",
        "      <th>Parameter</th>\n",
        "      <th>Description</th>\n",
        "    </tr>\n",
        "  </thead>\n",
        "  <tbody>\n",
        "    <tr>\n",
        "      <td><code><b>url</b></code></td>\n",
        "      <td>A string representing a url associated with a table. Typically the table is in comma-separated value (csv) form. See also <code><b>up_write_table</b></code>.</td>\n",
        "    </tr>\n",
        "  </tbody>\n",
        "</table>\n",
        "\n",
        "##Example\n",
        "\n",
        "<pre>\n",
        "url = 'https://raw.githubusercontent.com/fickas/course_datasets/main/animals.csv'  #a table stored on github\n",
        "animal_table = up_get_table(url)\n",
        "</pre>"
      ],
      "metadata": {
        "id": "9Jt46O190Riv"
      }
    },
    {
      "cell_type": "markdown",
      "source": [
        "\n",
        "\n",
        "<center>\n",
        "![Blue line](https://github.com/fickas/ai_for_good/blob/master/blue_line.png){ width=60%,height:30px }<img src='https://github.com/fickas/ai_for_good/blob/master/blue_line.png' height=100 width='300'>\n",
        "</center>"
      ],
      "metadata": {
        "id": "mmpvyic_-DJP"
      }
    },
    {
      "cell_type": "markdown",
      "source": [
        "# * `up_get_column`: grabs column from a table and returns as a list\n",
        "\n",
        "##Syntax\n",
        "\n",
        "<pre>\n",
        "up_get_column(table, column_name)\n",
        "</pre>\n",
        "\n",
        "##Parameters\n",
        "\n",
        "<table>\n",
        "  <thead>\n",
        "    <tr>\n",
        "      <th>Parameter</th>\n",
        "      <th>Description</th>\n",
        "    </tr>\n",
        "  </thead>\n",
        "  <tbody>\n",
        "    <tr>\n",
        "      <td><code><b>table</b></code></td>\n",
        "      <td>A puddles table. Can use <code><b>type</b></code> function to verify.</td>\n",
        "    </tr>\n",
        "    <tr>\n",
        "      <td><code><b>column_name</b></code></td>\n",
        "      <td>A string that names a legal column in <code><b>table</b></code>.</td>\n",
        "    </tr>\n",
        "  </tbody>\n",
        "</table>\n",
        "\n",
        "##Example\n",
        "\n",
        "<pre>\n",
        "cute_list = up_get_column(animal_table, 'Cuteness')\n",
        "\n",
        "print(type(animal_table))  #pandas.core.frame.DataFrame\n",
        "print(type(cute_list))  #list\n",
        "</pre>\n",
        "\n",
        "##Error examples\n",
        "\n",
        "<pre>\n",
        "cute_list = up_get_column(animal_table, Cuteness) #column_name is not a string\n",
        "</pre>\n",
        "<pre>\n",
        "cute_list = up_get_column(animal_table, 'cuteness') #column_name is wrong case\n",
        "</pre>"
      ],
      "metadata": {
        "id": "N1wm_qVJ3Ok4"
      }
    },
    {
      "cell_type": "markdown",
      "source": [
        "\n",
        "\n",
        "<center>\n",
        "<img src='https://www.dropbox.com/s/56q7d7evuerifo8/Screen%20Shot%202022-03-13%20at%201.36.43%20PM.png?raw=1' height=100 width='300'>\n",
        "</center>"
      ],
      "metadata": {
        "id": "zGveoBfgYFx5"
      }
    },
    {
      "cell_type": "markdown",
      "source": [
        "# * `up_show_color`: shows the color that goes with RGB triple\n",
        "\n",
        "##Syntax\n",
        "\n",
        "<pre>\n",
        "up_show_color(rgb_triple)\n",
        "</pre>\n",
        "\n",
        "##Parameters\n",
        "\n",
        "<table>\n",
        "  <thead>\n",
        "    <tr>\n",
        "      <th>Parameter</th>\n",
        "      <th>Description</th>\n",
        "    </tr>\n",
        "  </thead>\n",
        "  <tbody>\n",
        "    <tr>\n",
        "      <td><code><b>rgb_triple</b></code></td>\n",
        "      <td>A list of 3 numbers expected to be between 0 and 255. If smaller or larger, will be clipped to closest boundary.</td>\n",
        "    </tr>\n",
        "    \n",
        "  </tbody>\n",
        "</table>\n",
        "\n",
        "##Example\n",
        "\n",
        "<pre>\n",
        "plum = [221,160,221]\n",
        "up_show_color(plum)  #plum\n",
        "</pre>\n",
        "<img src='https://www.dropbox.com/s/js1uliwe0jwibbu/Screen%20Shot%202022-03-23%20at%203.25.03%20PM.png?raw=1' height=100>\n",
        "\n",
        "##Clipping examples\n",
        "\n",
        "<pre>\n",
        "weird = [-221,-160,-221]\n",
        "up_show_color(weird)  #clips to [0,0,0] - black\n",
        "</pre>\n",
        "<pre>\n",
        "weird = [321,360,321]\n",
        "up_show_color(weird)  #clips to [255,255,255] - white\n",
        "</pre>"
      ],
      "metadata": {
        "id": "jEx9DpW03zlI"
      }
    },
    {
      "cell_type": "markdown",
      "source": [
        "\n",
        "\n",
        "<center>\n",
        "<img src='https://www.dropbox.com/s/56q7d7evuerifo8/Screen%20Shot%202022-03-13%20at%201.36.43%20PM.png?raw=1' height=100 width='300'>\n",
        "</center>"
      ],
      "metadata": {
        "id": "A08JmFQ_3zlP"
      }
    },
    {
      "cell_type": "markdown",
      "source": [
        "# * `up_find_char`: finds the index of a character in a bigger string\n",
        "\n",
        "##Syntax\n",
        "\n",
        "<pre>\n",
        "up_find_char(big_string, character)\n",
        "</pre>\n",
        "\n",
        "##Parameters\n",
        "\n",
        "<table>\n",
        "  <thead>\n",
        "    <tr>\n",
        "      <th>Parameter</th>\n",
        "      <th>Description</th>\n",
        "    </tr>\n",
        "  </thead>\n",
        "  <tbody>\n",
        "    <tr>\n",
        "      <td><code><b>big_string</b></code></td>\n",
        "      <td>Any string.</td>\n",
        "    </tr>\n",
        "    <tr>\n",
        "      <td><code><b>character</b></code></td>\n",
        "      <td>A single character string.</td>\n",
        "    </tr>\n",
        "    \n",
        "  </tbody>\n",
        "</table>\n",
        "\n",
        "##Example\n",
        "\n",
        "<pre>\n",
        "up_find_char('this; that', ';')  #returns 4, the index of ';' in larger string\n",
        "</pre>\n",
        "\n",
        "<pre>\n",
        "a_string = 'abc'\n",
        "a_char = 'b'\n",
        "up_find_char(a_string, a_char)  #returns 1, the index of 'b' in larger string\n",
        "</pre>\n",
        "\n",
        "<pre>\n",
        "up_find_char('this; that', '?')  #returns -1 since does not find '?' in bigger string.\n",
        "</pre>"
      ],
      "metadata": {
        "id": "u5e8MrLjQ2nk"
      }
    },
    {
      "cell_type": "markdown",
      "source": [
        "\n",
        "\n",
        "<center>\n",
        "<img src='https://www.dropbox.com/s/56q7d7evuerifo8/Screen%20Shot%202022-03-13%20at%201.36.43%20PM.png?raw=1' height=100 width='300'>\n",
        "</center>"
      ],
      "metadata": {
        "id": "HiEEni7JQ2nn"
      }
    },
    {
      "cell_type": "markdown",
      "source": [
        "# * `up_plot_against`: plots one column against another\n",
        "\n",
        "##Syntax\n",
        "\n",
        "<pre>\n",
        "up_plot_against(table, column1, column2)\n",
        "</pre>\n",
        "\n",
        "##Parameters\n",
        "\n",
        "<table>\n",
        "  <thead>\n",
        "    <tr>\n",
        "      <th>Parameter</th>\n",
        "      <th>Description</th>\n",
        "    </tr>\n",
        "  </thead>\n",
        "  <tbody>\n",
        "    <tr>\n",
        "      <td><code><b>table</b></code></td>\n",
        "      <td>A puddles table. Can use <code><b>type</b></code> function to verify.</td>\n",
        "    </tr>\n",
        "    <tr>\n",
        "      <td><code><b>column1</b></code></td>\n",
        "      <td>A string that names a legal column in <code><b>table</b></code>. Note that the number of unique values should be below 20 to plot effectively. See <code><b>up_get_column_types</b></code> to determine unique values in a column.</td>\n",
        "    </tr>\n",
        "    <tr>\n",
        "      <td><code><b>column2</b></code></td>\n",
        "      <td>A string that names a legal column in <code><b>table</b></code>. This column should have 5 or fewer unique values to plot effectively.</td>\n",
        "    </tr>\n",
        "  </tbody>\n",
        "</table>\n",
        "\n",
        "##Example\n",
        "\n",
        "<pre>\n",
        "up_plot_against(loan_table, 'Gender', 'Loan_Status')  #note both columns have small number of unique values\n",
        "</pre>\n",
        "<img src='https://www.dropbox.com/s/jwo4ip364vgisef/Screen%20Shot%202022-03-17%20at%2012.42.22%20PM.png?raw=1' height=200>\n",
        "\n",
        "##Error examples\n",
        "\n",
        "<pre>\n",
        "up_plot_against(loan_table, 'gender', 'Loan_Status') #Gender wrong case\n",
        "</pre>\n",
        "<pre>\n",
        "up_plot_against(loan_table, 'Gender', 'LoanStatus') #Loan_Status misspelled.\n",
        "</pre>"
      ],
      "metadata": {
        "id": "v2xZ5jQGYFx6"
      }
    },
    {
      "cell_type": "markdown",
      "source": [
        "\n",
        "\n",
        "<center>\n",
        "<img src='https://www.dropbox.com/s/56q7d7evuerifo8/Screen%20Shot%202022-03-13%20at%201.36.43%20PM.png?raw=1' height=100 width='300'>\n",
        "</center>"
      ],
      "metadata": {
        "id": "-Tc8v_DPdoss"
      }
    },
    {
      "cell_type": "markdown",
      "source": [
        "# * `up_table_subset`: create a subset of a larger table\n",
        "\n",
        "##Syntax\n",
        "\n",
        "<pre>\n",
        "up_table_subset(table, column_name, condition, value)\n",
        "</pre>\n",
        "\n",
        "##Parameters\n",
        "\n",
        "<table>\n",
        "  <thead>\n",
        "    <tr>\n",
        "      <th>Parameter</th>\n",
        "      <th>Description</th>\n",
        "    </tr>\n",
        "  </thead>\n",
        "  <tbody>\n",
        "    <tr>\n",
        "      <td><code><b>table</b></code></td>\n",
        "      <td>A puddles table. Can use <code><b>type</b></code> function to verify.</td>\n",
        "    </tr>\n",
        "    <tr>\n",
        "      <td><code><b>column_name</b></code></td>\n",
        "      <td>A string that names a legal column in <code><b>table</b></code>.</td>\n",
        "    </tr>\n",
        "    <tr>\n",
        "      <td><code><b>condition</b></code></td>\n",
        "      <td>A string <code><b>'equals', 'not equals', '>', '<'</b></code>. </td>\n",
        "    </tr>\n",
        "    <tr>\n",
        "      <td><code><b>value</b></code></td>\n",
        "      <td>A string or number, depending on the type of values in column_name. </td>\n",
        "    </tr>\n",
        "  </tbody>\n",
        "</table>\n",
        "\n",
        "##Example\n",
        "\n",
        "<pre>\n",
        "female_table = up_table_subset(loan_table, 'Gender', 'equals', 'Female')\n",
        "\n",
        "lat_180 = up_table_subset(loan_table, 'Loan_Amount_Term', '<', 180)\n",
        "</pre>\n",
        "\n",
        "\n",
        "##Error examples\n",
        "\n",
        "<pre>\n",
        "lat_180 = up_table_subset(loan_table, 'Loan_Amount_Term', '<', '180')  #don't quote number\n",
        "</pre>\n"
      ],
      "metadata": {
        "id": "e19friJea586"
      }
    },
    {
      "cell_type": "markdown",
      "source": [
        "\n",
        "\n",
        "<center>\n",
        "<img src='https://www.dropbox.com/s/56q7d7evuerifo8/Screen%20Shot%202022-03-13%20at%201.36.43%20PM.png?raw=1' height=100 width='300'>\n",
        "</center>"
      ],
      "metadata": {
        "id": "tiQsvD1-dqBn"
      }
    },
    {
      "cell_type": "markdown",
      "source": [
        "# `up_drop_column`: create a new table with column dropped\n",
        "\n",
        "##Syntax\n",
        "\n",
        "<pre>\n",
        "up_drop_column(table, column_name)\n",
        "</pre>\n",
        "\n",
        "##Parameters\n",
        "\n",
        "<table>\n",
        "  <thead>\n",
        "    <tr>\n",
        "      <th>Parameter</th>\n",
        "      <th>Description</th>\n",
        "    </tr>\n",
        "  </thead>\n",
        "  <tbody>\n",
        "    <tr>\n",
        "      <td><code><b>table</b></code></td>\n",
        "      <td>A puddles table. Can use <code><b>type</b></code> function to verify.</td>\n",
        "    </tr>\n",
        "    <tr>\n",
        "      <td><code><b>column_name</b></code></td>\n",
        "      <td>A string that names a legal column in <code><b>table</b></code>.</td>\n",
        "    </tr>\n",
        "  </tbody>\n",
        "</table>\n",
        "\n",
        "##Example\n",
        "\n",
        "<pre>\n",
        "wrangled_loan_table_1 = up_drop_column(loan_table, 'Loan_ID')\n",
        "</pre>\n"
      ],
      "metadata": {
        "id": "7wfhNwTJdtPo"
      }
    },
    {
      "cell_type": "markdown",
      "source": [
        "\n",
        "\n",
        "<center>\n",
        "<img src='https://www.dropbox.com/s/56q7d7evuerifo8/Screen%20Shot%202022-03-13%20at%201.36.43%20PM.png?raw=1' height=100 width='300'>\n",
        "</center>"
      ],
      "metadata": {
        "id": "TlnvG5KDdtPo"
      }
    },
    {
      "cell_type": "markdown",
      "source": [
        "# * `up_drop_nan_rows`: create a new table with rows dropped that contain NaN values\n",
        "\n",
        "##Syntax\n",
        "\n",
        "<pre>\n",
        "up_drop_nan_rows(table)\n",
        "</pre>\n",
        "\n",
        "##Parameters\n",
        "\n",
        "<table>\n",
        "  <thead>\n",
        "    <tr>\n",
        "      <th>Parameter</th>\n",
        "      <th>Description</th>\n",
        "    </tr>\n",
        "  </thead>\n",
        "  <tbody>\n",
        "    <tr>\n",
        "      <td><code><b>table</b></code></td>\n",
        "      <td>A puddles table. Can use <code><b>type</b></code> function to verify.</td>\n",
        "    </tr>\n",
        "  </tbody>\n",
        "</table>\n",
        "\n",
        "##Example\n",
        "\n",
        "<pre>\n",
        "wrangled_loan_table_2 = up_drop_nan_rows(wrangled_loan_table_1)</pre>\n"
      ],
      "metadata": {
        "id": "yUyYNY-Bfdi_"
      }
    },
    {
      "cell_type": "markdown",
      "source": [
        "\n",
        "\n",
        "<center>\n",
        "<img src='https://www.dropbox.com/s/56q7d7evuerifo8/Screen%20Shot%202022-03-13%20at%201.36.43%20PM.png?raw=1' height=100 width='300'>\n",
        "</center>"
      ],
      "metadata": {
        "id": "_jpnmLwUfdjG"
      }
    },
    {
      "cell_type": "markdown",
      "source": [
        "# * `up_map_column`: create a new table with with values in column replaced\n",
        "\n",
        "##Syntax\n",
        "\n",
        "<pre>\n",
        "up_map_column(table, column, mapping_dict)\n",
        "</pre>\n",
        "\n",
        "##Parameters\n",
        "\n",
        "<table>\n",
        "  <thead>\n",
        "    <tr>\n",
        "      <th>Parameter</th>\n",
        "      <th>Description</th>\n",
        "    </tr>\n",
        "  </thead>\n",
        "  <tbody>\n",
        "    <tr>\n",
        "      <td><code><b>table</b></code></td>\n",
        "      <td>A puddles table. Can use <code><b>type</b></code> function to verify.</td>\n",
        "    </tr>\n",
        "    <tr>\n",
        "      <td><code><b>column</b></code></td>\n",
        "      <td>A string that names a legal column in <code><b>table</b></code>.</td>\n",
        "    </tr>\n",
        "    <tr>\n",
        "      <td><code><b>mapping_dict</b></code></td>\n",
        "      <td>A dictionary that gives a mapping from current values in the column to new values. </td>\n",
        "    </tr>\n",
        "    <tr>\n",
        "  </tbody>\n",
        "</table>\n",
        "\n",
        "##Example\n",
        "\n",
        "<pre>\n",
        "wrangled_loan_table_7 = up_map_column(wrangled_loan_table_6, 'Gender', {'Male':0, 'Female':1})\n",
        "</pre>\n"
      ],
      "metadata": {
        "id": "qd7TI4Ddf5dj"
      }
    },
    {
      "cell_type": "markdown",
      "source": [
        "\n",
        "\n",
        "<center>\n",
        "<img src='https://www.dropbox.com/s/56q7d7evuerifo8/Screen%20Shot%202022-03-13%20at%201.36.43%20PM.png?raw=1' height=100 width='300'>\n",
        "</center>"
      ],
      "metadata": {
        "id": "0jhsYtfqf5dk"
      }
    },
    {
      "cell_type": "markdown",
      "source": [
        "# `up_get_column_types`: illustrates the types of each column\n",
        "\n",
        "##Syntax\n",
        "\n",
        "<pre>\n",
        "up_get_column_types(table)\n",
        "</pre>\n",
        "\n",
        "##Parameters\n",
        "\n",
        "<table>\n",
        "  <thead>\n",
        "    <tr>\n",
        "      <th>Parameter</th>\n",
        "      <th>Description</th>\n",
        "    </tr>\n",
        "  </thead>\n",
        "  <tbody>\n",
        "    <tr>\n",
        "      <td><code><b>table</b></code></td>\n",
        "      <td>A puddles table. Can use <code><b>type</b></code> function to verify.</td>\n",
        "    </tr>\n",
        "    \n",
        "  </tbody>\n",
        "</table>\n",
        "\n",
        "##Example\n",
        "\n",
        "<pre>\n",
        "up_get_column_types(wrangled_loan_table_4)\n",
        "</pre>\n",
        "\n",
        "<img src='https://www.dropbox.com/s/36fg4s39vplkstl/Screen%20Shot%202022-03-23%20at%201.45.43%20PM.png?raw=1' height=300>"
      ],
      "metadata": {
        "id": "PTZKkhIphUQI"
      }
    },
    {
      "cell_type": "markdown",
      "source": [
        "\n",
        "\n",
        "<center>\n",
        "<img src='https://www.dropbox.com/s/56q7d7evuerifo8/Screen%20Shot%202022-03-13%20at%201.36.43%20PM.png?raw=1' height=100 width='300'>\n",
        "</center>"
      ],
      "metadata": {
        "id": "ygyYS1lLhUQQ"
      }
    },
    {
      "cell_type": "markdown",
      "source": [
        "# * `up_column_histogram`: plot a historgram of values in a column\n",
        "\n",
        "##Syntax\n",
        "\n",
        "<pre>\n",
        "up_column_histogram(table, column)\n",
        "</pre>\n",
        "\n",
        "##Parameters\n",
        "\n",
        "<table>\n",
        "  <thead>\n",
        "    <tr>\n",
        "      <th>Parameter</th>\n",
        "      <th>Description</th>\n",
        "    </tr>\n",
        "  </thead>\n",
        "  <tbody>\n",
        "    <tr>\n",
        "      <td><code><b>table</b></code></td>\n",
        "      <td>A puddles table. Can use <code><b>type</b></code> function to verify.</td>\n",
        "    </tr>\n",
        "    <tr>\n",
        "      <td><code><b>column</b></code></td>\n",
        "      <td>A string that names a legal column in <code><b>table</b></code>. <b>Important</b>: the column must contain numeric (not string) values.</td>\n",
        "    </tr>\n",
        "    \n",
        "  </tbody>\n",
        "</table>\n",
        "\n",
        "##Example\n",
        "\n",
        "<pre>\n",
        "up_column_histogram(loan_table, 'ApplicantIncome')\n",
        "</pre>\n",
        "<img src='https://www.dropbox.com/s/rx1hgrdwafehv5e/Screen%20Shot%202022-03-23%20at%201.50.42%20PM.png?raw=1' height=200>\n"
      ],
      "metadata": {
        "id": "2cbPpv09iMwK"
      }
    },
    {
      "cell_type": "markdown",
      "source": [
        "\n",
        "\n",
        "<center>\n",
        "<img src='https://www.dropbox.com/s/56q7d7evuerifo8/Screen%20Shot%202022-03-13%20at%201.36.43%20PM.png?raw=1' height=100 width='300'>\n",
        "</center>"
      ],
      "metadata": {
        "id": "hdWOAn9PiMwR"
      }
    },
    {
      "cell_type": "markdown",
      "source": [
        "# * `up_clip_list`: clip values on boundaries in a list of numbers\n",
        "\n",
        "##Syntax\n",
        "\n",
        "<pre>\n",
        "up_clip_list(value_list, lower_boundary, upper_boundary)\n",
        "</pre>\n",
        "\n",
        "##Parameters\n",
        "\n",
        "<table>\n",
        "  <thead>\n",
        "    <tr>\n",
        "      <th>Parameter</th>\n",
        "      <th>Description</th>\n",
        "    </tr>\n",
        "  </thead>\n",
        "  <tbody>\n",
        "    <tr>\n",
        "      <td><code><b>value_list</b></code></td>\n",
        "      <td>A list of numbers. Typically drawn from a table column: see <code><b>up_get_column</b></code>.</td>\n",
        "    </tr>\n",
        "    <tr>\n",
        "      <td><code><b>lower_boundary</b></code></td>\n",
        "      <td>A number representing the lower boundary to clip on. Values below this boundary are reset to the boundary. The lower_boundary must be less than the upper_boundary.</td>\n",
        "    </tr>\n",
        "    <tr>\n",
        "      <td><code><b>upper_boundary</b></code></td>\n",
        "      <td>A number representing the upper boundary to clip on. Values above this boundary are reset to the boundary.</td>\n",
        "    </tr>\n",
        "    <tr>\n",
        "  </tbody>\n",
        "</table>\n",
        "\n",
        "##Example\n",
        "\n",
        "<pre>\n",
        "#used in outlier handling with 3Sigma\n",
        "apin_clipped = up_clip_list(apin_list, apin_lower_boundary, apin_upper_boundary)\n",
        "</pre>\n"
      ],
      "metadata": {
        "id": "yR9DAjgjjNkm"
      }
    },
    {
      "cell_type": "markdown",
      "source": [
        "\n",
        "\n",
        "<center>\n",
        "<img src='https://www.dropbox.com/s/56q7d7evuerifo8/Screen%20Shot%202022-03-13%20at%201.36.43%20PM.png?raw=1' height=100 width='300'>\n",
        "</center>"
      ],
      "metadata": {
        "id": "LuCW78x3jNkn"
      }
    },
    {
      "cell_type": "markdown",
      "source": [
        "# * `up_set_column`: create a new table where column has new values\n",
        "\n",
        "##Syntax\n",
        "\n",
        "<pre>\n",
        "up_set_column(table, column, value_list)\n",
        "</pre>\n",
        "\n",
        "##Parameters\n",
        "\n",
        "<table>\n",
        "  <thead>\n",
        "    <tr>\n",
        "      <th>Parameter</th>\n",
        "      <th>Description</th>\n",
        "    </tr>\n",
        "  </thead>\n",
        "  <tbody>\n",
        "    <tr>\n",
        "      <td><code><b>table</b></code></td>\n",
        "      <td>A puddles table. Can use <code><b>type</b></code> function to verify.</td>\n",
        "    </tr>\n",
        "    <tr>\n",
        "      <td><code><b>column</b></code></td>\n",
        "      <td>A string that names a legal column in <code><b>table</b></code>.</td>\n",
        "    </tr>\n",
        "    <tr>\n",
        "      <td><code><b>value_list</b></code></td>\n",
        "      <td>A list of values to place in the column. Must be same length as table. See also <code><b>up_clip_list</b></code>.</td>\n",
        "    </tr>\n",
        "    <tr>\n",
        "  </tbody>\n",
        "</table>\n",
        "\n",
        "##Example\n",
        "\n",
        "<pre>\n",
        "#used to reset a column based on 3Sigma outliers\n",
        "wrangled_loan_table_5 = up_set_column(wrangled_loan_table_4, 'ApplicantIncome', apin_clipped)\n",
        "</pre>\n"
      ],
      "metadata": {
        "id": "eU88RwwRlhfP"
      }
    },
    {
      "cell_type": "markdown",
      "source": [
        "\n",
        "\n",
        "<center>\n",
        "<img src='https://www.dropbox.com/s/56q7d7evuerifo8/Screen%20Shot%202022-03-13%20at%201.36.43%20PM.png?raw=1' height=100 width='300'>\n",
        "</center>"
      ],
      "metadata": {
        "id": "6Vz7u4HplhfW"
      }
    },
    {
      "cell_type": "markdown",
      "source": [
        "# * `up_write_table`: writes a table out as a file\n",
        "\n",
        "##Syntax\n",
        "\n",
        "<pre>\n",
        "up_write_table(table, file_name)\n",
        "</pre>\n",
        "\n",
        "##Parameters\n",
        "\n",
        "<table>\n",
        "  <thead>\n",
        "    <tr>\n",
        "      <th>Parameter</th>\n",
        "      <th>Description</th>\n",
        "    </tr>\n",
        "  </thead>\n",
        "  <tbody>\n",
        "    <tr>\n",
        "      <td><code><b>table</b></code></td>\n",
        "      <td>A puddles table. Can use <code><b>type</b></code> function to verify.</td>\n",
        "    </tr>\n",
        "    <tr>\n",
        "      <td><code><b>file_name</b></code></td>\n",
        "      <td>A string that represents a file name. Once written to local storage, the file can be moved, e.g., to GitHub. See also <code><b>See <code><b>up_get_table</b></code>.</td>\n",
        "    </tr>\n",
        "    <tr>\n",
        "  </tbody>\n",
        "</table>\n",
        "\n",
        "##Example\n",
        "\n",
        "<pre>\n",
        "up_write_table(wrangled_loan_table_12, 'wrangled_loan_table_part1.csv')\n",
        "</pre>\n"
      ],
      "metadata": {
        "id": "Eym-9e_4vHdp"
      }
    },
    {
      "cell_type": "markdown",
      "source": [
        "\n",
        "\n",
        "<center>\n",
        "<img src='https://www.dropbox.com/s/56q7d7evuerifo8/Screen%20Shot%202022-03-13%20at%201.36.43%20PM.png?raw=1' height=100 width='300'>\n",
        "</center>"
      ],
      "metadata": {
        "id": "idAWa6IgvHdw"
      }
    }
  ]
}